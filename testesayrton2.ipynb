{
 "cells": [
  {
   "cell_type": "code",
   "execution_count": 1,
   "id": "ffaf9b14-f0f0-4b63-aa8b-ab99c95edccb",
   "metadata": {
    "editable": true,
    "slideshow": {
     "slide_type": ""
    },
    "tags": []
   },
   "outputs": [
    {
     "name": "stdout",
     "output_type": "stream",
     "text": [
      "15\n"
     ]
    }
   ],
   "source": [
    "a = 3\n",
    "b = 5\n",
    "c = a * b\n",
    "print(c)"
   ]
  },
  {
   "cell_type": "code",
   "execution_count": 16,
   "id": "68fdc67b-9a30-42cd-b8d7-0d6c1a407890",
   "metadata": {},
   "outputs": [
    {
     "name": "stdout",
     "output_type": "stream",
     "text": [
      "['Ramos', 'Ayrton', 'Silva']\n",
      "['Ayrton', 'Ramos', 'Silva']\n"
     ]
    }
   ],
   "source": [
    "nome = 'Ramos Ayrton Silva'\n",
    "lista = nome.rsplit(\" \")\n",
    "lista.sort()\n",
    "print(lista)"
   ]
  },
  {
   "cell_type": "code",
   "execution_count": null,
   "id": "d177a55a-8911-4212-8657-234d8dd15187",
   "metadata": {},
   "outputs": [],
   "source": [
    "nome = input(\"Ayrton Silva\")\n",
    "dicionario = {'nome': nome}\n",
    "print(dicionario)"
   ]
  },
  {
   "cell_type": "code",
   "execution_count": 34,
   "id": "d0111bd7-a5d3-4c0f-b989-78a8b75e8809",
   "metadata": {},
   "outputs": [
    {
     "name": "stdin",
     "output_type": "stream",
     "text": [
      " 3\n",
      "Escreva:  as\n",
      "Escreva:  as\n",
      "Escreva:  as\n"
     ]
    }
   ],
   "source": [
    "quantidade = int(input())\n",
    "for i in range(quantidade):\n",
    "    escreva = input(\"Escreva: \")"
   ]
  },
  {
   "cell_type": "code",
   "execution_count": 3,
   "id": "11bf4fd2-ee38-499f-8ae4-bf88a7658d90",
   "metadata": {},
   "outputs": [
    {
     "name": "stdin",
     "output_type": "stream",
     "text": [
      "Digite uma lista (por exemplo, [1, 2, 3]):  1,2,3\n"
     ]
    },
    {
     "name": "stdout",
     "output_type": "stream",
     "text": [
      "Você digitou a lista: (1, 2, 3)\n"
     ]
    }
   ],
   "source": [
    "user_input = input(\"Digite uma lista (por exemplo, [1, 2, 3]): \")\n",
    "user_list = eval(user_input)\n",
    "print(\"Você digitou a lista:\", user_list)"
   ]
  },
  {
   "cell_type": "code",
   "execution_count": 6,
   "id": "d9fc7923-7b87-4b74-a482-0b127fa1c203",
   "metadata": {},
   "outputs": [
    {
     "name": "stdin",
     "output_type": "stream",
     "text": [
      " 2\n",
      " adad\n",
      " 21\n"
     ]
    },
    {
     "ename": "IndexError",
     "evalue": "list assignment index out of range",
     "output_type": "error",
     "traceback": [
      "\u001b[1;31m---------------------------------------------------------------------------\u001b[0m",
      "\u001b[1;31mIndexError\u001b[0m                                Traceback (most recent call last)",
      "Cell \u001b[1;32mIn[6], line 9\u001b[0m\n\u001b[0;32m      7\u001b[0m     dados[\u001b[38;5;124m\"\u001b[39m\u001b[38;5;124mNome\u001b[39m\u001b[38;5;124m\"\u001b[39m] \u001b[38;5;241m=\u001b[39m nome\n\u001b[0;32m      8\u001b[0m     dados[\u001b[38;5;124m\"\u001b[39m\u001b[38;5;124mNotas\u001b[39m\u001b[38;5;124m\"\u001b[39m] \u001b[38;5;241m=\u001b[39m notas\n\u001b[1;32m----> 9\u001b[0m     alunos[i] \u001b[38;5;241m=\u001b[39m dados\n\u001b[0;32m     10\u001b[0m \u001b[38;5;28mprint\u001b[39m(alunos)\n",
      "\u001b[1;31mIndexError\u001b[0m: list assignment index out of range"
     ]
    }
   ],
   "source": [
    "quantidade = int(input())\n",
    "alunos = []\n",
    "dados={}\n",
    "for i in range(quantidade):\n",
    "    nome = input()\n",
    "    notas = eval(input(\"\"))\n",
    "    dados[\"Nome\"] = nome\n",
    "    dados[\"Notas\"] = notas\n",
    "    alunos[i] = dados\n",
    "print(alunos)"
   ]
  },
  {
   "cell_type": "code",
   "execution_count": 6,
   "id": "5288e62b-12ae-4db1-af89-43523103306f",
   "metadata": {},
   "outputs": [
    {
     "name": "stdin",
     "output_type": "stream",
     "text": [
      "Numero de alunos:  2\n"
     ]
    },
    {
     "name": "stdout",
     "output_type": "stream",
     "text": [
      "Aluno  1 :\n"
     ]
    },
    {
     "name": "stdin",
     "output_type": "stream",
     "text": [
      " Ayrton\n"
     ]
    },
    {
     "name": "stdout",
     "output_type": "stream",
     "text": [
      "Notas :\n"
     ]
    },
    {
     "name": "stdin",
     "output_type": "stream",
     "text": [
      " 1,2,3\n"
     ]
    },
    {
     "name": "stdout",
     "output_type": "stream",
     "text": [
      "Aluno  2 :\n"
     ]
    },
    {
     "name": "stdin",
     "output_type": "stream",
     "text": [
      " Davi\n"
     ]
    },
    {
     "name": "stdout",
     "output_type": "stream",
     "text": [
      "Notas :\n"
     ]
    },
    {
     "name": "stdin",
     "output_type": "stream",
     "text": [
      " 1,2,3\n"
     ]
    },
    {
     "name": "stdout",
     "output_type": "stream",
     "text": [
      "{'Ayrton': 2.0, 'Davi': 2.0}\n"
     ]
    }
   ],
   "source": [
    "#Questão 2\n",
    "\n",
    "quantidade = int(input(\"Numero de alunos: \"))\n",
    "dados = {}\n",
    "dados_media = {}\n",
    "for i in range(quantidade):\n",
    "    print(\"Aluno \",i+1,\":\")\n",
    "    nome = input()\n",
    "    print(\"Notas :\")\n",
    "    notas = eval(input(\"\"))\n",
    "    media = sum(notas)/len(notas)\n",
    "    dados[nome] = notas #esse dicionario só está aqui porque a questão pede ela, mas a saída não\n",
    "    dados_media[nome] = round(media,1)\n",
    "print(dados_media)"
   ]
  },
  {
   "cell_type": "code",
   "execution_count": 10,
   "id": "03d5f6bd-c87a-44da-bc90-b4cff89ba7be",
   "metadata": {},
   "outputs": [
    {
     "name": "stdin",
     "output_type": "stream",
     "text": [
      " string\n"
     ]
    },
    {
     "name": "stdout",
     "output_type": "stream",
     "text": [
      "Vogais:  1\n",
      "Consoantes:  5\n"
     ]
    }
   ],
   "source": [
    "#Questão 3\n",
    "\n",
    "string = input(\"\")\n",
    "cont = 0\n",
    "cont2 = 0\n",
    "vogais = 'aeiouAEIOU'\n",
    "for i in string:\n",
    "    if i in vogais:\n",
    "        cont += 1\n",
    "    else:\n",
    "        cont2 += 1\n",
    "print(\"Vogais: \",cont)\n",
    "print(\"Consoantes: \",cont2)"
   ]
  },
  {
   "cell_type": "code",
   "execution_count": 46,
   "id": "a05f2e89-d4e7-4c7a-b7dd-560f1dbad996",
   "metadata": {},
   "outputs": [
    {
     "name": "stdin",
     "output_type": "stream",
     "text": [
      "Digite um número positivo:  -1\n",
      "Digite um número positivo:  0\n"
     ]
    },
    {
     "name": "stdout",
     "output_type": "stream",
     "text": [
      "[-1]\n",
      "[-1]\n"
     ]
    }
   ],
   "source": [
    "#questão 4\n",
    "\n",
    "numeros = []\n",
    "numero = -1\n",
    "inicio = 0\n",
    "while True:\n",
    "    numero = int(input(\"Digite um número positivo: \"))\n",
    "    if numero == 0:\n",
    "        break  \n",
    "    else:\n",
    "        numeros.append(numero)\n",
    "fim = len(numeros) - 1\n",
    "print(numeros)\n",
    "while inicio<fim :\n",
    "    numeros[inicio],numeros[fim] = numeros[fim],numeros[inicio]\n",
    "    inicio +=1\n",
    "    fim -=1\n",
    "print(numeros)"
   ]
  },
  {
   "cell_type": "code",
   "execution_count": 52,
   "id": "db1d092f-9324-4106-a45c-c23d959d2480",
   "metadata": {},
   "outputs": [
    {
     "name": "stdin",
     "output_type": "stream",
     "text": [
      " 10\n",
      " Homem\n",
      " 16\n",
      " Homem\n",
      " 36\n",
      " Mulher\n",
      " 12\n",
      " Homem\n",
      " 22\n",
      " Homem\n",
      " 72\n",
      " Homem\n",
      " 47\n",
      " Mulher\n",
      " 14\n",
      " Homem\n",
      " 32\n",
      " Mulher\n",
      " 25\n",
      " Homem\n",
      " 18\n"
     ]
    },
    {
     "name": "stdout",
     "output_type": "stream",
     "text": [
      "29.4\n",
      "17.0\n",
      "34.7\n",
      "2\n",
      "4\n",
      "2\n",
      "1\n",
      "1\n",
      "14.3\n"
     ]
    }
   ],
   "source": [
    "#questão 5\n",
    "\n",
    "quantidade = int(input())\n",
    "lista_dicionario = []\n",
    "soma_idades_gerais = 0\n",
    "quant_idades_gerais = 0\n",
    "soma_idades_mulheres = 0\n",
    "quant_idades_mulheres = 0\n",
    "soma_idades_homens = 0\n",
    "quant_idades_homens = 0\n",
    "_15 = 0\n",
    "_16_30 = 0\n",
    "_31_45 = 0\n",
    "_46_60 = 0\n",
    "_61mais = 0\n",
    "_46_60_homem = 0\n",
    "\n",
    "#Criação da lista de dicionarios\n",
    "for i in range(quantidade):\n",
    "    dicionario = {}\n",
    "    sexo = input()\n",
    "    idade = int(input())\n",
    "    dicionario[idade] = sexo\n",
    "    lista_dicionario.append(dicionario)\n",
    "#para achar valores especificos\n",
    "\n",
    "quant_idades_gerais = len(lista_dicionario)\n",
    "\n",
    "for i in lista_dicionario:\n",
    "    idade = int(list(i.keys())[0])\n",
    "    sexo = list(i.values())[0]\n",
    "    soma_idades_gerais += idade\n",
    "\n",
    "    if idade <= 15:\n",
    "        _15 += 1 \n",
    "    else:\n",
    "        if idade >= 16 and idade <=30:\n",
    "            _16_30 += 1\n",
    "        else:\n",
    "            if idade >=31 and idade<=45:\n",
    "                _31_45 += 1\n",
    "            else: \n",
    "                if idade >= 46 and idade <= 60:\n",
    "                    _46_60 += 1\n",
    "                    if sexo == 'Homem':\n",
    "                        _46_60_homem +=1\n",
    "                else : \n",
    "                    _61mais += 1\n",
    "        \n",
    "    if sexo == 'Homem': #if para saber se é homem ou mulher\n",
    "        soma_idades_homens += idade\n",
    "        quant_idades_homens += 1\n",
    "    else:\n",
    "        soma_idades_mulheres += idade\n",
    "        quant_idades_mulheres +=1\n",
    "\n",
    "if quant_idades_mulheres == 0:\n",
    "    quant_idades_mulheres = 1\n",
    "if quant_idades_homens == 0:\n",
    "    quant_idades_homens = 1\n",
    "\n",
    "#respostas\n",
    "print(round((soma_idades_gerais/quant_idades_gerais),1))\n",
    "print(round((soma_idades_mulheres/quant_idades_mulheres),1))\n",
    "print(round((soma_idades_homens/quant_idades_homens),1))\n",
    "print(_15)\n",
    "print(_16_30)\n",
    "print(_31_45)\n",
    "print(_46_60)\n",
    "print(_61mais)\n",
    "print(round(((_46_60_homem/quant_idades_gerai)*100),1))"
   ]
  },
  {
   "cell_type": "code",
   "execution_count": null,
   "id": "47be1f36-ba89-4c74-83fb-f1363be4a2c3",
   "metadata": {},
   "outputs": [],
   "source": [
    "n = 10\n",
    "\n",
    "if n >= 5 and n<=10:\n",
    "    print(\"funcinou\")\n",
    "else:\n",
    "    print(\"não funcionou\")"
   ]
  },
  {
   "cell_type": "code",
   "execution_count": 10,
   "id": "0f2217ff-2187-4a47-98a2-1fda20664c56",
   "metadata": {},
   "outputs": [
    {
     "name": "stdin",
     "output_type": "stream",
     "text": [
      " 10\n"
     ]
    },
    {
     "name": "stdout",
     "output_type": "stream",
     "text": [
      "[0, 1, 2, 3, 4, 5, 6, 7, 8, 9]\n"
     ]
    }
   ],
   "source": [
    "num = int(input())\n",
    "i = 0\n",
    "list = []\n",
    "\n",
    "while i<num:\n",
    "    list.append(i)\n",
    "    i +=1\n",
    "\n",
    "print(list)"
   ]
  },
  {
   "cell_type": "code",
   "execution_count": 28,
   "id": "1176368f-7ff9-4007-8db8-49c33cf647fb",
   "metadata": {},
   "outputs": [
    {
     "name": "stdin",
     "output_type": "stream",
     "text": [
      " 12000.00\n"
     ]
    },
    {
     "name": "stdout",
     "output_type": "stream",
     "text": [
      "Voce precisa apresentar um fiador\n",
      "O valor dos juros para um ano e de: R$ 7200.0\n"
     ]
    }
   ],
   "source": [
    "#questão 7\n",
    "\n",
    "valor = float(input())\n",
    "valor_1ano = 0\n",
    "valor_1ano = (valor*0.05)*12\n",
    "\n",
    "if valor >=10000.00 :\n",
    "    print(\"Voce precisa apresentar um fiador\")\n",
    "else :\n",
    "    print(\"Voce nao precisa apresentar um fiador\")\n",
    "\n",
    "print(\"O valor dos juros para um ano e de: R$\", round(valor_1ano,2))"
   ]
  },
  {
   "cell_type": "code",
   "execution_count": 4,
   "id": "8f04708c-feaf-41a8-b753-232b10218efd",
   "metadata": {},
   "outputs": [
    {
     "name": "stdin",
     "output_type": "stream",
     "text": [
      " Ayrton\n",
      " 10\n",
      " 10\n",
      " 10\n"
     ]
    },
    {
     "name": "stdout",
     "output_type": "stream",
     "text": [
      "O(A) aluno(a) Ayrton esta com situacao Aprovado devido a media final de 10.0."
     ]
    }
   ],
   "source": [
    "def situacaoFinal(nome,nota1,nota2,nota3):\n",
    "    media = (nota1+nota2+nota3)/3\n",
    "    if media>= 6:\n",
    "        situação = \"Aprovado\"\n",
    "    else:\n",
    "        if media >=5 and media <6 :\n",
    "            situação = \"Aprovado por recuperacao\"\n",
    "        else : \n",
    "            situação = \"Reprovado\"\n",
    "    funcao = situacaoDoAluno(nome,situação,media)\n",
    "    return funcao\n",
    "def situacaoDoAluno(nome, situação, media):\n",
    "    print(\"O(A) aluno(a)\",nome, \"esta com situacao\",situação,\"devido a media final de\",round(media,1),end=\".\")\n",
    "\t\n",
    "nomeDoAluno = input()\n",
    "nota1 = float(input())\n",
    "nota2 = float(input())\n",
    "nota3 = float(input())\n",
    "situacaoFinal(nomeDoAluno,nota1,nota2,nota3)"
   ]
  },
  {
   "cell_type": "code",
   "execution_count": 10,
   "id": "1dc43a6c-44ec-4063-abc5-fd789adf9cb0",
   "metadata": {},
   "outputs": [
    {
     "name": "stdin",
     "output_type": "stream",
     "text": [
      " 3.5\n",
      " 2.1\n"
     ]
    },
    {
     "name": "stdout",
     "output_type": "stream",
     "text": [
      "66.84\n"
     ]
    }
   ],
   "source": [
    "#exercicio 9\n",
    "\n",
    "def area_volume(lados,altura):\n",
    "    ab = ((3*lados**2)*(3**0.5))/2\n",
    "    a = ab*altura\n",
    "    return a\n",
    "\n",
    "lados = float(input())\n",
    "altura = float(input())\n",
    "\n",
    "print(round(area_volume(lados,altura),2))\n"
   ]
  },
  {
   "cell_type": "code",
   "execution_count": 16,
   "id": "88756571-f3e6-4941-91f0-a06870f775fb",
   "metadata": {},
   "outputs": [
    {
     "name": "stdin",
     "output_type": "stream",
     "text": [
      " 4.8\n",
      " 12.45\n"
     ]
    },
    {
     "name": "stdout",
     "output_type": "stream",
     "text": [
      "3.141592653589793\n",
      "300.39\n"
     ]
    }
   ],
   "source": [
    "#exercicio 10\n",
    "\n",
    "import math\n",
    "\n",
    "def area_volume(raio,altura):\n",
    "    ab = math.pi* raio**2\n",
    "    a = (ab*altura)/3\n",
    "    return a\n",
    "\n",
    "raio = float(input())\n",
    "altura = float(input())\n",
    "print(round(area_volume(raio,altura),2))\n"
   ]
  },
  {
   "cell_type": "code",
   "execution_count": 18,
   "id": "df70f200-afcc-42d6-bbd8-dd92dc4196a0",
   "metadata": {},
   "outputs": [
    {
     "name": "stdin",
     "output_type": "stream",
     "text": [
      " 12.5\n",
      " 8.9\n"
     ]
    },
    {
     "name": "stdout",
     "output_type": "stream",
     "text": [
      "4368.78\n"
     ]
    }
   ],
   "source": [
    "#exercicio 11\n",
    "\n",
    "import math\n",
    "\n",
    "def area_volume(raio,altura):\n",
    "    ab = math.pi* raio**2\n",
    "    a = ab*altura\n",
    "    return a\n",
    "\n",
    "raio = float(input())\n",
    "altura = float(input())\n",
    "print(round(area_volume(raio,altura),2))"
   ]
  },
  {
   "cell_type": "code",
   "execution_count": 24,
   "id": "433dd247-4484-474f-b6ac-7558c5283fe7",
   "metadata": {},
   "outputs": [
    {
     "name": "stdin",
     "output_type": "stream",
     "text": [
      " 3,1,1,4\n"
     ]
    },
    {
     "name": "stdout",
     "output_type": "stream",
     "text": [
      "190\n"
     ]
    }
   ],
   "source": [
    "#exercicio 12\n",
    "\n",
    "aneis = eval(input())\n",
    "total = 0\n",
    "\n",
    "for i in aneis :\n",
    "    if i == 1:\n",
    "        total += 80\n",
    "    else:\n",
    "        if i == 2:\n",
    "            total +=40\n",
    "        else:\n",
    "            if i == 3:\n",
    "                total +=20\n",
    "            else:\n",
    "                total += 10\n",
    "print(total)"
   ]
  },
  {
   "cell_type": "code",
   "execution_count": 3,
   "id": "a981c0c5-b370-4096-bae9-e97361c69813",
   "metadata": {},
   "outputs": [
    {
     "name": "stdin",
     "output_type": "stream",
     "text": [
      " 5.0\n"
     ]
    },
    {
     "name": "stdout",
     "output_type": "stream",
     "text": [
      "78.5\n"
     ]
    }
   ],
   "source": [
    "#exercicio 13\n",
    "\n",
    "class circulo:\n",
    "\n",
    "    def __init__(self,raio):\n",
    "        self.raio = raio\n",
    "    def calculararea(self):\n",
    "        return 3.14 * self.raio **2\n",
    "raio = float(input())\n",
    "cir = circulo(raio).calculararea()\n",
    "print(round(cir,2))"
   ]
  }
 ],
 "metadata": {
  "kernelspec": {
   "display_name": "Python 3 (ipykernel)",
   "language": "python",
   "name": "python3"
  },
  "language_info": {
   "codemirror_mode": {
    "name": "ipython",
    "version": 3
   },
   "file_extension": ".py",
   "mimetype": "text/x-python",
   "name": "python",
   "nbconvert_exporter": "python",
   "pygments_lexer": "ipython3",
   "version": "3.11.7"
  }
 },
 "nbformat": 4,
 "nbformat_minor": 5
}
