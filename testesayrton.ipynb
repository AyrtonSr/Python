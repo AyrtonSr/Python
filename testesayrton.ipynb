{
 "cells": [
  {
   "cell_type": "code",
   "execution_count": 1,
   "id": "ffaf9b14-f0f0-4b63-aa8b-ab99c95edccb",
   "metadata": {
    "editable": true,
    "slideshow": {
     "slide_type": ""
    },
    "tags": []
   },
   "outputs": [
    {
     "name": "stdout",
     "output_type": "stream",
     "text": [
      "15\n"
     ]
    }
   ],
   "source": [
    "a = 3\n",
    "b = 5\n",
    "c = a * b\n",
    "print(c)"
   ]
  },
  {
   "cell_type": "code",
   "execution_count": 16,
   "id": "68fdc67b-9a30-42cd-b8d7-0d6c1a407890",
   "metadata": {},
   "outputs": [
    {
     "name": "stdout",
     "output_type": "stream",
     "text": [
      "['Ramos', 'Ayrton', 'Silva']\n",
      "['Ayrton', 'Ramos', 'Silva']\n"
     ]
    }
   ],
   "source": [
    "nome = 'Ramos Ayrton Silva'\n",
    "lista = nome.rsplit(\" \")\n",
    "lista.sort()\n",
    "print(lista)"
   ]
  },
  {
   "cell_type": "code",
   "execution_count": 18,
   "id": "d177a55a-8911-4212-8657-234d8dd15187",
   "metadata": {},
   "outputs": [
    {
     "name": "stdin",
     "output_type": "stream",
     "text": [
      "Ayrton Silva Ayrt\n"
     ]
    },
    {
     "name": "stdout",
     "output_type": "stream",
     "text": [
      "{'nome': 'Ayrt'}\n"
     ]
    }
   ],
   "source": [
    "nome = input(\"Ayrton Silva\")\n",
    "dicionario = {'nome': nome}\n",
    "print(dicionario)"
   ]
  },
  {
   "cell_type": "code",
   "execution_count": 34,
   "id": "d0111bd7-a5d3-4c0f-b989-78a8b75e8809",
   "metadata": {},
   "outputs": [
    {
     "name": "stdin",
     "output_type": "stream",
     "text": [
      " 3\n",
      "Escreva:  as\n",
      "Escreva:  as\n",
      "Escreva:  as\n"
     ]
    }
   ],
   "source": [
    "quantidade = int(input())\n",
    "for i in range(quantidade):\n",
    "    escreva = input(\"Escreva: \")"
   ]
  },
  {
   "cell_type": "code",
   "execution_count": 3,
   "id": "11bf4fd2-ee38-499f-8ae4-bf88a7658d90",
   "metadata": {},
   "outputs": [
    {
     "name": "stdin",
     "output_type": "stream",
     "text": [
      "Digite uma lista (por exemplo, [1, 2, 3]):  1,2,3\n"
     ]
    },
    {
     "name": "stdout",
     "output_type": "stream",
     "text": [
      "Você digitou a lista: (1, 2, 3)\n"
     ]
    }
   ],
   "source": [
    "user_input = input(\"Digite uma lista (por exemplo, [1, 2, 3]): \")\n",
    "user_list = eval(user_input)\n",
    "print(\"Você digitou a lista:\", user_list)"
   ]
  },
  {
   "cell_type": "code",
   "execution_count": 6,
   "id": "d9fc7923-7b87-4b74-a482-0b127fa1c203",
   "metadata": {},
   "outputs": [
    {
     "name": "stdin",
     "output_type": "stream",
     "text": [
      " 2\n",
      " adad\n",
      " 21\n"
     ]
    },
    {
     "ename": "IndexError",
     "evalue": "list assignment index out of range",
     "output_type": "error",
     "traceback": [
      "\u001b[1;31m---------------------------------------------------------------------------\u001b[0m",
      "\u001b[1;31mIndexError\u001b[0m                                Traceback (most recent call last)",
      "Cell \u001b[1;32mIn[6], line 9\u001b[0m\n\u001b[0;32m      7\u001b[0m     dados[\u001b[38;5;124m\"\u001b[39m\u001b[38;5;124mNome\u001b[39m\u001b[38;5;124m\"\u001b[39m] \u001b[38;5;241m=\u001b[39m nome\n\u001b[0;32m      8\u001b[0m     dados[\u001b[38;5;124m\"\u001b[39m\u001b[38;5;124mNotas\u001b[39m\u001b[38;5;124m\"\u001b[39m] \u001b[38;5;241m=\u001b[39m notas\n\u001b[1;32m----> 9\u001b[0m     alunos[i] \u001b[38;5;241m=\u001b[39m dados\n\u001b[0;32m     10\u001b[0m \u001b[38;5;28mprint\u001b[39m(alunos)\n",
      "\u001b[1;31mIndexError\u001b[0m: list assignment index out of range"
     ]
    }
   ],
   "source": [
    "quantidade = int(input())\n",
    "alunos = []\n",
    "dados={}\n",
    "for i in range(quantidade):\n",
    "    nome = input()\n",
    "    notas = eval(input(\"\"))\n",
    "    dados[\"Nome\"] = nome\n",
    "    dados[\"Notas\"] = notas\n",
    "    alunos[i] = dados\n",
    "print(alunos)"
   ]
  },
  {
   "cell_type": "code",
   "execution_count": 6,
   "id": "5288e62b-12ae-4db1-af89-43523103306f",
   "metadata": {},
   "outputs": [
    {
     "name": "stdin",
     "output_type": "stream",
     "text": [
      "Numero de alunos:  2\n"
     ]
    },
    {
     "name": "stdout",
     "output_type": "stream",
     "text": [
      "Aluno  1 :\n"
     ]
    },
    {
     "name": "stdin",
     "output_type": "stream",
     "text": [
      " Ayrton\n"
     ]
    },
    {
     "name": "stdout",
     "output_type": "stream",
     "text": [
      "Notas :\n"
     ]
    },
    {
     "name": "stdin",
     "output_type": "stream",
     "text": [
      " 1,2,3\n"
     ]
    },
    {
     "name": "stdout",
     "output_type": "stream",
     "text": [
      "Aluno  2 :\n"
     ]
    },
    {
     "name": "stdin",
     "output_type": "stream",
     "text": [
      " Davi\n"
     ]
    },
    {
     "name": "stdout",
     "output_type": "stream",
     "text": [
      "Notas :\n"
     ]
    },
    {
     "name": "stdin",
     "output_type": "stream",
     "text": [
      " 1,2,3\n"
     ]
    },
    {
     "name": "stdout",
     "output_type": "stream",
     "text": [
      "{'Ayrton': 2.0, 'Davi': 2.0}\n"
     ]
    }
   ],
   "source": [
    "#Questão 2\n",
    "\n",
    "quantidade = int(input(\"Numero de alunos: \"))\n",
    "dados = {}\n",
    "dados_media = {}\n",
    "for i in range(quantidade):\n",
    "    print(\"Aluno \",i+1,\":\")\n",
    "    nome = input()\n",
    "    print(\"Notas :\")\n",
    "    notas = eval(input(\"\"))\n",
    "    media = sum(notas)/len(notas)\n",
    "    dados[nome] = notas #esse dicionario só está aqui porque a questão pede ela, mas a saída não\n",
    "    dados_media[nome] = round(media,1)\n",
    "print(dados_media)"
   ]
  },
  {
   "cell_type": "code",
   "execution_count": 10,
   "id": "03d5f6bd-c87a-44da-bc90-b4cff89ba7be",
   "metadata": {},
   "outputs": [
    {
     "name": "stdin",
     "output_type": "stream",
     "text": [
      " string\n"
     ]
    },
    {
     "name": "stdout",
     "output_type": "stream",
     "text": [
      "Vogais:  1\n",
      "Consoantes:  5\n"
     ]
    }
   ],
   "source": [
    "#Questão 3\n",
    "\n",
    "string = input(\"\")\n",
    "cont = 0\n",
    "cont2 = 0\n",
    "vogais = 'aeiouAEIOU'\n",
    "for i in string:\n",
    "    if i in vogais:\n",
    "        cont += 1\n",
    "    else:\n",
    "        cont2 += 1\n",
    "print(\"Vogais: \",cont)\n",
    "print(\"Consoantes: \",cont2)"
   ]
  },
  {
   "cell_type": "code",
   "execution_count": 16,
   "id": "a05f2e89-d4e7-4c7a-b7dd-560f1dbad996",
   "metadata": {},
   "outputs": [
    {
     "name": "stdin",
     "output_type": "stream",
     "text": [
      "Digite um número positivo:  1\n",
      "Digite um número positivo:  2\n",
      "Digite um número positivo:  3\n",
      "Digite um número positivo:  3\n",
      "Digite um número positivo:  2\n",
      "Digite um número positivo:  1\n",
      "Digite um número positivo:  0\n"
     ]
    },
    {
     "name": "stdout",
     "output_type": "stream",
     "text": [
      "[1, 2, 3, 3, 2, 1]\n",
      "[1, 2, 3, 3, 2, 1]\n"
     ]
    }
   ],
   "source": [
    "#questão 4\n",
    "\n",
    "numeros = []\n",
    "numero = -1\n",
    "inicio = 0\n",
    "while True:\n",
    "    numero = int(input(\"Digite um número positivo: \"))\n",
    "    if numero == 0:\n",
    "        break  \n",
    "    else:\n",
    "        numeros.append(numero)\n",
    "fim = len(numeros) - 1\n",
    "print(numeros)\n",
    "while inicio<fim :\n",
    "    numeros[inicio],numeros[fim] = numeros[fim],numeros[inicio]\n",
    "    inicio +=1\n",
    "    fim -=1\n",
    "print(numeros)"
   ]
  },
  {
   "cell_type": "code",
   "execution_count": 30,
   "id": "db1d092f-9324-4106-a45c-c23d959d2480",
   "metadata": {},
   "outputs": [
    {
     "name": "stdin",
     "output_type": "stream",
     "text": [
      " 3\n",
      " 10\n",
      " h\n",
      " 12\n",
      " m\n",
      " 12\n",
      " m\n"
     ]
    },
    {
     "name": "stdout",
     "output_type": "stream",
     "text": [
      "[{10: 'h'}, {12: 'm'}, {12: 'm'}]\n",
      "----\n",
      "11.333333333333334\n",
      "34\n",
      "3\n",
      "0\n",
      "0\n"
     ]
    }
   ],
   "source": [
    "#questão 5\n",
    "\n",
    "quantidade = int(input())\n",
    "lista_dicionario = []\n",
    "soma_idades_gerais = 0\n",
    "quant_idades_gerais = 0\n",
    "soma_idades_mulheres = 0\n",
    "quant_idades_mulheres = 0\n",
    "soma_idades_homens = 0\n",
    "quant_idades_homens = 0\n",
    "\n",
    "#Criação da lista de dicionarios\n",
    "for i in range(quantidade):\n",
    "    dicionario = {}\n",
    "    idade = int(input())\n",
    "    sexo = input()\n",
    "    dicionario[idade] = sexo\n",
    "    lista_dicionario.append(dicionario)\n",
    "print(lista_dicionario)\n",
    "\n",
    "#para achar valores especificos\n",
    "\n",
    "quant_idades_gerais = len(lista_dicionario)\n",
    "\n",
    "for i in lista_dicionario:\n",
    "    idade = int(list(i.keys())[0])\n",
    "    sexo = i.values()\n",
    "    soma_idades_gerais += idade\n",
    "    if sexo == 'h':\n",
    "        soma_idades_homens += idade\n",
    "        quant_idades_homens += 1\n",
    "    else:\n",
    "        soma_idades_mulheres += idade\n",
    "        quant_idades_mulheres +=1\n",
    "\n",
    "#respostas\n",
    "print(\"----\")\n",
    "print(soma_idades_gerais/quant_idades_gerais)\n",
    "print(soma_idades_mulheres)\n",
    "print(quant_idades_mulheres)\n",
    "print(soma_idades_homens)\n",
    "print(quant_idades_homens)"
   ]
  },
  {
   "cell_type": "code",
   "execution_count": 28,
   "id": "47be1f36-ba89-4c74-83fb-f1363be4a2c3",
   "metadata": {},
   "outputs": [
    {
     "data": {
      "text/plain": [
       "str"
      ]
     },
     "execution_count": 28,
     "metadata": {},
     "output_type": "execute_result"
    }
   ],
   "source": [
    "type(str(idade))"
   ]
  }
 ],
 "metadata": {
  "kernelspec": {
   "display_name": "Python 3 (ipykernel)",
   "language": "python",
   "name": "python3"
  },
  "language_info": {
   "codemirror_mode": {
    "name": "ipython",
    "version": 3
   },
   "file_extension": ".py",
   "mimetype": "text/x-python",
   "name": "python",
   "nbconvert_exporter": "python",
   "pygments_lexer": "ipython3",
   "version": "3.11.7"
  }
 },
 "nbformat": 4,
 "nbformat_minor": 5
}
