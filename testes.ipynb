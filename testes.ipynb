{
 "cells": [
  {
   "cell_type": "code",
   "execution_count": 1,
   "id": "ffaf9b14-f0f0-4b63-aa8b-ab99c95edccb",
   "metadata": {
    "editable": true,
    "slideshow": {
     "slide_type": ""
    },
    "tags": []
   },
   "outputs": [
    {
     "name": "stdout",
     "output_type": "stream",
     "text": [
      "15\n"
     ]
    }
   ],
   "source": [
    "a = 3\n",
    "b = 5\n",
    "c = a * b\n",
    "print(c)"
   ]
  },
  {
   "cell_type": "code",
   "execution_count": 16,
   "id": "68fdc67b-9a30-42cd-b8d7-0d6c1a407890",
   "metadata": {},
   "outputs": [
    {
     "name": "stdout",
     "output_type": "stream",
     "text": [
      "['Ramos', 'Ayrton', 'Silva']\n",
      "['Ayrton', 'Ramos', 'Silva']\n"
     ]
    }
   ],
   "source": [
    "nome = 'Ramos Ayrton Silva'\n",
    "lista = nome.rsplit(\" \")\n",
    "lista.sort()\n",
    "print(lista)"
   ]
  },
  {
   "cell_type": "code",
   "execution_count": 18,
   "id": "d177a55a-8911-4212-8657-234d8dd15187",
   "metadata": {},
   "outputs": [
    {
     "name": "stdin",
     "output_type": "stream",
     "text": [
      "Ayrton Silva Ayrt\n"
     ]
    },
    {
     "name": "stdout",
     "output_type": "stream",
     "text": [
      "{'nome': 'Ayrt'}\n"
     ]
    }
   ],
   "source": [
    "nome = input(\"Ayrton Silva\")\n",
    "dicionario = {'nome': nome}\n",
    "print(dicionario)"
   ]
  },
  {
   "cell_type": "code",
   "execution_count": 34,
   "id": "d0111bd7-a5d3-4c0f-b989-78a8b75e8809",
   "metadata": {},
   "outputs": [
    {
     "name": "stdin",
     "output_type": "stream",
     "text": [
      " 3\n",
      "Escreva:  as\n",
      "Escreva:  as\n",
      "Escreva:  as\n"
     ]
    }
   ],
   "source": [
    "quantidade = int(input())\n",
    "for i in range(quantidade):\n",
    "    escreva = input(\"Escreva: \")"
   ]
  },
  {
   "cell_type": "code",
   "execution_count": 3,
   "id": "11bf4fd2-ee38-499f-8ae4-bf88a7658d90",
   "metadata": {},
   "outputs": [
    {
     "name": "stdin",
     "output_type": "stream",
     "text": [
      "Digite uma lista (por exemplo, [1, 2, 3]):  1,2,3\n"
     ]
    },
    {
     "name": "stdout",
     "output_type": "stream",
     "text": [
      "Você digitou a lista: (1, 2, 3)\n"
     ]
    }
   ],
   "source": [
    "user_input = input(\"Digite uma lista (por exemplo, [1, 2, 3]): \")\n",
    "user_list = eval(user_input)\n",
    "print(\"Você digitou a lista:\", user_list)"
   ]
  },
  {
   "cell_type": "code",
   "execution_count": null,
   "id": "d9fc7923-7b87-4b74-a482-0b127fa1c203",
   "metadata": {},
   "outputs": [],
   "source": [
    "quantidade = int(input())\n",
    "alunos = []\n",
    "dados{}\n",
    "for i in range(quantidade):\n",
    "    nome = input()\n",
    "    notas = eval(input(\"\"))\n",
    "    dados[\"Nome\"] = nome\n",
    "    dados[\"Notas\"] = notas\n",
    "    alunos[i] = dados\n",
    "print(alunos)"
   ]
  },
  {
   "cell_type": "code",
   "execution_count": 7,
   "id": "5288e62b-12ae-4db1-af89-43523103306f",
   "metadata": {},
   "outputs": [
    {
     "name": "stdin",
     "output_type": "stream",
     "text": [
      " 2\n",
      " a\n",
      " 1,2,3\n",
      " b\n",
      " 3,3,3\n"
     ]
    },
    {
     "name": "stdout",
     "output_type": "stream",
     "text": [
      "{'a': 2.0, 'b': 3.0}\n"
     ]
    }
   ],
   "source": [
    "quantidade = int(input())\n",
    "dados = {}\n",
    "dados_media = {}\n",
    "for i in range(quantidade):\n",
    "    nome = input()\n",
    "    notas = eval(input(\"\"))\n",
    "    media = sum(notas)/len(notas)\n",
    "    dados[nome] = notas #esse dicionario só está aqui porque a questão pede ela, mas a saída não\n",
    "    dados_media[nome] = round(media,1)\n",
    "print(dados_media)"
   ]
  }
 ],
 "metadata": {
  "kernelspec": {
   "display_name": "Python 3 (ipykernel)",
   "language": "python",
   "name": "python3"
  },
  "language_info": {
   "codemirror_mode": {
    "name": "ipython",
    "version": 3
   },
   "file_extension": ".py",
   "mimetype": "text/x-python",
   "name": "python",
   "nbconvert_exporter": "python",
   "pygments_lexer": "ipython3",
   "version": "3.11.7"
  }
 },
 "nbformat": 4,
 "nbformat_minor": 5
}
